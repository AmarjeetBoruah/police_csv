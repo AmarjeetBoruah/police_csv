{
  "nbformat": 4,
  "nbformat_minor": 0,
  "metadata": {
    "colab": {
      "provenance": []
    },
    "kernelspec": {
      "name": "python3",
      "display_name": "Python 3"
    },
    "language_info": {
      "name": "python"
    }
  },
  "cells": [
    {
      "cell_type": "code",
      "execution_count": null,
      "metadata": {
        "id": "Lirde0ojCIKS"
      },
      "outputs": [],
      "source": [
        "import pandas as pd\n",
        "data=pd.read_csv(r\"/content/drive/MyDrive/csv123.csv\")\n",
        "print(data)"
      ]
    },
    {
      "cell_type": "code",
      "source": [
        "data_nul=data.isnull().sum()\n",
        "print(data_nul)"
      ],
      "metadata": {
        "id": "RIzvpKc0DlDb"
      },
      "execution_count": null,
      "outputs": []
    },
    {
      "cell_type": "code",
      "source": [
        "data_cl=data.drop(\"country_name\",axis=1)\n",
        "data_cl2=data.drop(\"search_type\",axis=1)\n",
        "print(data_cl)"
      ],
      "metadata": {
        "id": "fGYhjs4oEghq"
      },
      "execution_count": null,
      "outputs": []
    },
    {
      "cell_type": "code",
      "source": [
        "speeding_count=data[data[\"violation\"]==\"Speeding\"][\"driver_gender\"].value_counts()\n",
        "print(speeding_count)"
      ],
      "metadata": {
        "id": "E_jH6u2LF1Va"
      },
      "execution_count": null,
      "outputs": []
    },
    {
      "cell_type": "code",
      "source": [
        "gender_comp=data.groupby(\"driver_gender\")[\"search_conducted\"].value_counts()\n",
        "print(gender_comp)"
      ],
      "metadata": {
        "id": "yjVYTcPkJuk4"
      },
      "execution_count": null,
      "outputs": []
    },
    {
      "cell_type": "code",
      "source": [
        "data[\"stop_duration\"]=data[\"stop_duration\"].map({\"0-15 Min\":7.5,\"16-30 Min\":23,\"30+ Min\":45})\n",
        "data['stop_duration']=pd.to_numeric(data['stop_duration'],errors=\"coerce\")\n",
        "mean_stop_duration=data['stop_duration'].mean()\n",
        "print(mean_stop_duration)"
      ],
      "metadata": {
        "id": "1-9nhsaNKKyt"
      },
      "execution_count": null,
      "outputs": []
    },
    {
      "cell_type": "code",
      "source": [
        "age_dis=data.groupby(\"violation\")[\"driver_age\"].describe()\n",
        "print(age_dis)"
      ],
      "metadata": {
        "id": "j53ZajgFLX9I"
      },
      "execution_count": null,
      "outputs": []
    }
  ]
}